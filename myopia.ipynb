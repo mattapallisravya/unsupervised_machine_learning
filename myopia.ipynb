{
 "cells": [
  {
   "cell_type": "code",
   "execution_count": 1,
   "metadata": {},
   "outputs": [],
   "source": [
    "# Initial imports\n",
    "import pandas as pd\n",
    "from pathlib import Path\n",
    "import matplotlib.pyplot as plt\n",
    "from numpy import asarray\n",
    "from sklearn.preprocessing import StandardScaler\n",
    "from sklearn.decomposition import PCA\n",
    "from sklearn.cluster import KMeans"
   ]
  },
  {
   "attachments": {},
   "cell_type": "markdown",
   "metadata": {},
   "source": [
    "**Part 1: Prepare the Data**"
   ]
  },
  {
   "cell_type": "code",
   "execution_count": 2,
   "metadata": {},
   "outputs": [
    {
     "data": {
      "text/html": [
       "<div>\n",
       "<style scoped>\n",
       "    .dataframe tbody tr th:only-of-type {\n",
       "        vertical-align: middle;\n",
       "    }\n",
       "\n",
       "    .dataframe tbody tr th {\n",
       "        vertical-align: top;\n",
       "    }\n",
       "\n",
       "    .dataframe thead th {\n",
       "        text-align: right;\n",
       "    }\n",
       "</style>\n",
       "<table border=\"1\" class=\"dataframe\">\n",
       "  <thead>\n",
       "    <tr style=\"text-align: right;\">\n",
       "      <th></th>\n",
       "      <th>AGE</th>\n",
       "      <th>SPHEQ</th>\n",
       "      <th>AL</th>\n",
       "      <th>ACD</th>\n",
       "      <th>LT</th>\n",
       "      <th>VCD</th>\n",
       "      <th>SPORTHR</th>\n",
       "      <th>READHR</th>\n",
       "      <th>COMPHR</th>\n",
       "      <th>STUDYHR</th>\n",
       "      <th>TVHR</th>\n",
       "      <th>DIOPTERHR</th>\n",
       "      <th>MOMMY</th>\n",
       "      <th>DADMY</th>\n",
       "      <th>MYOPIC</th>\n",
       "    </tr>\n",
       "  </thead>\n",
       "  <tbody>\n",
       "    <tr>\n",
       "      <th>0</th>\n",
       "      <td>6</td>\n",
       "      <td>-0.052</td>\n",
       "      <td>21.889999</td>\n",
       "      <td>3.690</td>\n",
       "      <td>3.498</td>\n",
       "      <td>14.70</td>\n",
       "      <td>45</td>\n",
       "      <td>8</td>\n",
       "      <td>0</td>\n",
       "      <td>0</td>\n",
       "      <td>10</td>\n",
       "      <td>34</td>\n",
       "      <td>1</td>\n",
       "      <td>1</td>\n",
       "      <td>1</td>\n",
       "    </tr>\n",
       "    <tr>\n",
       "      <th>1</th>\n",
       "      <td>6</td>\n",
       "      <td>0.608</td>\n",
       "      <td>22.379999</td>\n",
       "      <td>3.702</td>\n",
       "      <td>3.392</td>\n",
       "      <td>15.29</td>\n",
       "      <td>4</td>\n",
       "      <td>0</td>\n",
       "      <td>1</td>\n",
       "      <td>1</td>\n",
       "      <td>7</td>\n",
       "      <td>12</td>\n",
       "      <td>1</td>\n",
       "      <td>1</td>\n",
       "      <td>0</td>\n",
       "    </tr>\n",
       "    <tr>\n",
       "      <th>2</th>\n",
       "      <td>6</td>\n",
       "      <td>1.179</td>\n",
       "      <td>22.490000</td>\n",
       "      <td>3.462</td>\n",
       "      <td>3.514</td>\n",
       "      <td>15.52</td>\n",
       "      <td>14</td>\n",
       "      <td>0</td>\n",
       "      <td>2</td>\n",
       "      <td>0</td>\n",
       "      <td>10</td>\n",
       "      <td>14</td>\n",
       "      <td>0</td>\n",
       "      <td>0</td>\n",
       "      <td>0</td>\n",
       "    </tr>\n",
       "    <tr>\n",
       "      <th>3</th>\n",
       "      <td>6</td>\n",
       "      <td>0.525</td>\n",
       "      <td>22.200001</td>\n",
       "      <td>3.862</td>\n",
       "      <td>3.612</td>\n",
       "      <td>14.73</td>\n",
       "      <td>18</td>\n",
       "      <td>11</td>\n",
       "      <td>0</td>\n",
       "      <td>0</td>\n",
       "      <td>4</td>\n",
       "      <td>37</td>\n",
       "      <td>0</td>\n",
       "      <td>1</td>\n",
       "      <td>1</td>\n",
       "    </tr>\n",
       "    <tr>\n",
       "      <th>4</th>\n",
       "      <td>5</td>\n",
       "      <td>0.697</td>\n",
       "      <td>23.290001</td>\n",
       "      <td>3.676</td>\n",
       "      <td>3.454</td>\n",
       "      <td>16.16</td>\n",
       "      <td>14</td>\n",
       "      <td>0</td>\n",
       "      <td>0</td>\n",
       "      <td>0</td>\n",
       "      <td>4</td>\n",
       "      <td>4</td>\n",
       "      <td>1</td>\n",
       "      <td>0</td>\n",
       "      <td>0</td>\n",
       "    </tr>\n",
       "  </tbody>\n",
       "</table>\n",
       "</div>"
      ],
      "text/plain": [
       "   AGE  SPHEQ         AL    ACD     LT    VCD  SPORTHR  READHR  COMPHR  \\\n",
       "0    6 -0.052  21.889999  3.690  3.498  14.70       45       8       0   \n",
       "1    6  0.608  22.379999  3.702  3.392  15.29        4       0       1   \n",
       "2    6  1.179  22.490000  3.462  3.514  15.52       14       0       2   \n",
       "3    6  0.525  22.200001  3.862  3.612  14.73       18      11       0   \n",
       "4    5  0.697  23.290001  3.676  3.454  16.16       14       0       0   \n",
       "\n",
       "   STUDYHR  TVHR  DIOPTERHR  MOMMY  DADMY  MYOPIC  \n",
       "0        0    10         34      1      1       1  \n",
       "1        1     7         12      1      1       0  \n",
       "2        0    10         14      0      0       0  \n",
       "3        0     4         37      0      1       1  \n",
       "4        0     4          4      1      0       0  "
      ]
     },
     "execution_count": 2,
     "metadata": {},
     "output_type": "execute_result"
    }
   ],
   "source": [
    "# Read csv file\n",
    "file_path = Path(\"myopia.csv\")\n",
    "df = pd.read_csv(file_path)\n",
    "# Preview of the dataset\n",
    "df.head()"
   ]
  },
  {
   "cell_type": "code",
   "execution_count": 3,
   "metadata": {},
   "outputs": [],
   "source": [
    "labels = df[\"MYOPIC\"]"
   ]
  },
  {
   "cell_type": "code",
   "execution_count": 4,
   "metadata": {},
   "outputs": [],
   "source": [
    "# Dropping Myopic column\n",
    "df = df.drop('MYOPIC', axis=1)"
   ]
  },
  {
   "cell_type": "code",
   "execution_count": 5,
   "metadata": {},
   "outputs": [
    {
     "name": "stdout",
     "output_type": "stream",
     "text": [
      "[[-4.20219106e-01 -1.36391690e+00 -8.92861464e-01 ...  4.98303926e-01\n",
      "   9.87137728e-01  1.00324150e+00]\n",
      " [-4.20219106e-01 -3.08612235e-01 -1.71839800e-01 ... -8.75087555e-01\n",
      "   9.87137728e-01  1.00324150e+00]\n",
      " [-4.20219106e-01  6.04386289e-01 -9.97682023e-03 ... -7.50233784e-01\n",
      "  -1.01302987e+00 -9.96768974e-01]\n",
      " ...\n",
      " [-4.20219106e-01  1.65169621e+00  6.52187361e-01 ... -1.37450264e+00\n",
      "   9.87137728e-01  1.00324150e+00]\n",
      " [-4.20219106e-01 -2.17472219e-01 -8.48716244e-01 ... -1.88391815e-01\n",
      "  -1.01302987e+00 -9.96768974e-01]\n",
      " [-4.20219106e-01  1.58339808e-03 -3.48415042e-01 ... -7.50233784e-01\n",
      "   9.87137728e-01  1.00324150e+00]]\n"
     ]
    }
   ],
   "source": [
    "# standardizing dataset using scaler\n",
    "scaler = StandardScaler()\n",
    "scaled = scaler.fit_transform(df)\n",
    "print(scaled)"
   ]
  },
  {
   "attachments": {},
   "cell_type": "markdown",
   "metadata": {},
   "source": [
    "**Part 2: Apply Dimensionality Reduction**"
   ]
  },
  {
   "cell_type": "code",
   "execution_count": 6,
   "metadata": {},
   "outputs": [],
   "source": [
    "# Applying PCA to reduce dimensions\n",
    "# Initialize PCA model\n",
    "pca = PCA(n_components=0.90)\n",
    "\n",
    "# Get principal components for the data.\n",
    "iris_pca = pca.fit_transform(scaled)"
   ]
  },
  {
   "cell_type": "code",
   "execution_count": 7,
   "metadata": {},
   "outputs": [
    {
     "data": {
      "text/html": [
       "<div>\n",
       "<style scoped>\n",
       "    .dataframe tbody tr th:only-of-type {\n",
       "        vertical-align: middle;\n",
       "    }\n",
       "\n",
       "    .dataframe tbody tr th {\n",
       "        vertical-align: top;\n",
       "    }\n",
       "\n",
       "    .dataframe thead th {\n",
       "        text-align: right;\n",
       "    }\n",
       "</style>\n",
       "<table border=\"1\" class=\"dataframe\">\n",
       "  <thead>\n",
       "    <tr style=\"text-align: right;\">\n",
       "      <th></th>\n",
       "      <th>principal component 1</th>\n",
       "      <th>principal component 2</th>\n",
       "      <th>principal component 3</th>\n",
       "      <th>principal component 4</th>\n",
       "      <th>principal component 5</th>\n",
       "      <th>principal component 6</th>\n",
       "      <th>principal component 7</th>\n",
       "      <th>principal component 8</th>\n",
       "      <th>principal component 9</th>\n",
       "      <th>principal component 10</th>\n",
       "    </tr>\n",
       "  </thead>\n",
       "  <tbody>\n",
       "    <tr>\n",
       "      <th>0</th>\n",
       "      <td>0.535503</td>\n",
       "      <td>1.145004</td>\n",
       "      <td>-1.385019</td>\n",
       "      <td>0.116006</td>\n",
       "      <td>-3.226691</td>\n",
       "      <td>-1.928459</td>\n",
       "      <td>-1.958892</td>\n",
       "      <td>-1.922997</td>\n",
       "      <td>0.026753</td>\n",
       "      <td>0.178144</td>\n",
       "    </tr>\n",
       "    <tr>\n",
       "      <th>1</th>\n",
       "      <td>-0.624706</td>\n",
       "      <td>-1.575786</td>\n",
       "      <td>-0.794253</td>\n",
       "      <td>1.156287</td>\n",
       "      <td>0.292256</td>\n",
       "      <td>0.349060</td>\n",
       "      <td>-0.455206</td>\n",
       "      <td>0.285332</td>\n",
       "      <td>0.689683</td>\n",
       "      <td>-0.557031</td>\n",
       "    </tr>\n",
       "    <tr>\n",
       "      <th>2</th>\n",
       "      <td>-0.933479</td>\n",
       "      <td>-0.717076</td>\n",
       "      <td>0.820150</td>\n",
       "      <td>-1.547638</td>\n",
       "      <td>0.173941</td>\n",
       "      <td>0.272783</td>\n",
       "      <td>0.025821</td>\n",
       "      <td>-0.030817</td>\n",
       "      <td>-0.431499</td>\n",
       "      <td>0.013336</td>\n",
       "    </tr>\n",
       "    <tr>\n",
       "      <th>3</th>\n",
       "      <td>0.106354</td>\n",
       "      <td>1.192475</td>\n",
       "      <td>-0.024441</td>\n",
       "      <td>1.507469</td>\n",
       "      <td>-2.356836</td>\n",
       "      <td>-0.023139</td>\n",
       "      <td>0.236418</td>\n",
       "      <td>-1.717109</td>\n",
       "      <td>-1.230785</td>\n",
       "      <td>-0.703400</td>\n",
       "    </tr>\n",
       "    <tr>\n",
       "      <th>4</th>\n",
       "      <td>-0.388503</td>\n",
       "      <td>-2.839655</td>\n",
       "      <td>-0.229767</td>\n",
       "      <td>-0.622510</td>\n",
       "      <td>0.271458</td>\n",
       "      <td>-0.928956</td>\n",
       "      <td>0.537900</td>\n",
       "      <td>-1.301787</td>\n",
       "      <td>0.279007</td>\n",
       "      <td>0.631183</td>\n",
       "    </tr>\n",
       "  </tbody>\n",
       "</table>\n",
       "</div>"
      ],
      "text/plain": [
       "   principal component 1  principal component 2  principal component 3  \\\n",
       "0               0.535503               1.145004              -1.385019   \n",
       "1              -0.624706              -1.575786              -0.794253   \n",
       "2              -0.933479              -0.717076               0.820150   \n",
       "3               0.106354               1.192475              -0.024441   \n",
       "4              -0.388503              -2.839655              -0.229767   \n",
       "\n",
       "   principal component 4  principal component 5  principal component 6  \\\n",
       "0               0.116006              -3.226691              -1.928459   \n",
       "1               1.156287               0.292256               0.349060   \n",
       "2              -1.547638               0.173941               0.272783   \n",
       "3               1.507469              -2.356836              -0.023139   \n",
       "4              -0.622510               0.271458              -0.928956   \n",
       "\n",
       "   principal component 7  principal component 8  principal component 9  \\\n",
       "0              -1.958892              -1.922997               0.026753   \n",
       "1              -0.455206               0.285332               0.689683   \n",
       "2               0.025821              -0.030817              -0.431499   \n",
       "3               0.236418              -1.717109              -1.230785   \n",
       "4               0.537900              -1.301787               0.279007   \n",
       "\n",
       "   principal component 10  \n",
       "0                0.178144  \n",
       "1               -0.557031  \n",
       "2                0.013336  \n",
       "3               -0.703400  \n",
       "4                0.631183  "
      ]
     },
     "execution_count": 7,
     "metadata": {},
     "output_type": "execute_result"
    }
   ],
   "source": [
    "# Transform PCA data to a DataFrame\n",
    "df_myopia_pca = pd.DataFrame(\n",
    "    data = iris_pca, columns=[\"principal component 1\", \"principal component 2\", \"principal component 3\", \"principal component 4\", \"principal component 5\"\n",
    "                            , \"principal component 6\", \"principal component 7\", \"principal component 8\", \"principal component 9\", \"principal component 10\"]\n",
    ")\n",
    "df_myopia_pca.head()"
   ]
  },
  {
   "cell_type": "code",
   "execution_count": 8,
   "metadata": {},
   "outputs": [
    {
     "data": {
      "text/plain": [
       "array([0.21177355, 0.15659716, 0.08688023, 0.08301762, 0.07584858,\n",
       "       0.06997878, 0.06486986, 0.06377808, 0.05393666, 0.05205566])"
      ]
     },
     "execution_count": 8,
     "metadata": {},
     "output_type": "execute_result"
    }
   ],
   "source": [
    "# Fetch the explained variance\n",
    "pca.explained_variance_ratio_"
   ]
  },
  {
   "cell_type": "code",
   "execution_count": 9,
   "metadata": {},
   "outputs": [],
   "source": [
    "from sklearn.manifold import TSNE\n",
    "# Initialize t-SNE model\n",
    "tsne = TSNE(learning_rate=35)"
   ]
  },
  {
   "cell_type": "code",
   "execution_count": 10,
   "metadata": {},
   "outputs": [],
   "source": [
    "# Reduce dimensions\n",
    "tsne_features = tsne.fit_transform(df_myopia_pca)"
   ]
  },
  {
   "cell_type": "code",
   "execution_count": 11,
   "metadata": {},
   "outputs": [
    {
     "data": {
      "text/plain": [
       "(618, 2)"
      ]
     },
     "execution_count": 11,
     "metadata": {},
     "output_type": "execute_result"
    }
   ],
   "source": [
    "# checking shape\n",
    "tsne_features.shape"
   ]
  },
  {
   "cell_type": "code",
   "execution_count": 12,
   "metadata": {},
   "outputs": [],
   "source": [
    "# Prepare to plot the dataset\n",
    "# The first column of transformed features\n",
    "df_myopia_pca['x'] = tsne_features[:,0]\n",
    "\n",
    "# The second column of transformed features\n",
    "df_myopia_pca['y'] = tsne_features[:,1]"
   ]
  },
  {
   "cell_type": "code",
   "execution_count": 22,
   "metadata": {},
   "outputs": [
    {
     "data": {
      "image/png": "[encoded data removed]",
      "text/plain": [
       "<Figure size 432x288 with 1 Axes>"
      ]
     },
     "metadata": {
      "needs_background": "light"
     },
     "output_type": "display_data"
    }
   ],
   "source": [
    "# Visualize the clusters\n",
    "plt.scatter(df_myopia_pca['x'], df_myopia_pca['y'],c = labels)\n",
    "plt.show()"
   ]
  },
  {
   "cell_type": "code",
   "execution_count": 14,
   "metadata": {},
   "outputs": [
    {
     "data": {
      "text/plain": [
       "0    537\n",
       "1     81\n",
       "Name: MYOPIC, dtype: int64"
      ]
     },
     "execution_count": 14,
     "metadata": {},
     "output_type": "execute_result"
    }
   ],
   "source": [
    "labels.value_counts()"
   ]
  },
  {
   "attachments": {},
   "cell_type": "markdown",
   "metadata": {},
   "source": [
    "**Part 3: Perform a Cluster Analysis with K-means**"
   ]
  },
  {
   "cell_type": "code",
   "execution_count": 15,
   "metadata": {},
   "outputs": [],
   "source": [
    "model = KMeans(n_clusters=3, random_state=5)"
   ]
  },
  {
   "cell_type": "code",
   "execution_count": 16,
   "metadata": {},
   "outputs": [
    {
     "data": {
      "text/plain": [
       "KMeans(algorithm='auto', copy_x=True, init='k-means++', max_iter=300,\n",
       "       n_clusters=3, n_init=10, n_jobs=None, precompute_distances='auto',\n",
       "       random_state=5, tol=0.0001, verbose=0)"
      ]
     },
     "execution_count": 16,
     "metadata": {},
     "output_type": "execute_result"
    }
   ],
   "source": [
    "# Fitting model\n",
    "model.fit(df)"
   ]
  },
  {
   "cell_type": "code",
   "execution_count": 21,
   "metadata": {},
   "outputs": [
    {
     "data": {
      "image/png": "[encoded data removed]",
      "text/plain": [
       "<Figure size 432x288 with 1 Axes>"
      ]
     },
     "metadata": {
      "needs_background": "light"
     },
     "output_type": "display_data"
    }
   ],
   "source": [
    "inertia = []\n",
    "k = [1,2,3,4,5,6,7,8,9,10]\n",
    "\n",
    "# Looking for the best k\n",
    "for i in k:\n",
    "    km = KMeans(n_clusters=i, random_state=0)\n",
    "    km.fit(df_myopia_pca)\n",
    "    inertia.append(km.inertia_)\n",
    "\n",
    "# Define a DataFrame to plot the Elbow Curve using hvPlot\n",
    "elbow_data = {\"k\": k, \"inertia\": inertia}\n",
    "df_elbow = pd.DataFrame(elbow_data)\n",
    "\n",
    "plt.plot(df_elbow['k'], df_elbow['inertia'])\n",
    "plt.xticks(range(1,11))\n",
    "plt.xlabel('Number of clusters')\n",
    "plt.ylabel('Inertia')\n",
    "plt.show()"
   ]
  },
  {
   "attachments": {},
   "cell_type": "markdown",
   "metadata": {},
   "source": [
    "**Recommendations:**\n",
    "\n",
    "- Patients can be divided into 3 to 4 clusters. \n",
    "- It requires more data to determine the exact number of clusters."
   ]
  }
 ],
 "metadata": {
  "kernelspec": {
   "display_name": "pythonDataOne",
   "language": "python",
   "name": "python3"
  },
  "language_info": {
   "codemirror_mode": {
    "name": "ipython",
    "version": 3
   },
   "file_extension": ".py",
   "mimetype": "text/x-python",
   "name": "python",
   "nbconvert_exporter": "python",
   "pygments_lexer": "ipython3",
   "version": "3.7.7"
  },
  "orig_nbformat": 4,
  "vscode": {
   "interpreter": {
    "hash": "ee2ade48cca16dec395c55bc9c32e476ebd5b9b87c8615697ed962164223e987"
   }
  }
 },
 "nbformat": 4,
 "nbformat_minor": 2
}
